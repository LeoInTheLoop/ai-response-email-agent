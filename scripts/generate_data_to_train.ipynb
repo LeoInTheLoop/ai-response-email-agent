{
 "cells": [
  {
   "cell_type": "code",
   "execution_count": 1,
   "id": "28023f89",
   "metadata": {},
   "outputs": [
    {
     "data": {
      "text/plain": [
       "file                                  allen-p/_sent_mail/10.\n",
       "message    Message-ID: <15464986.1075855378456.JavaMail.e...\n",
       "Name: 1, dtype: object"
      ]
     },
     "execution_count": 1,
     "metadata": {},
     "output_type": "execute_result"
    }
   ],
   "source": [
    "import pandas as pd\n",
    "import os\n",
    "import re\n",
    "file_path = '../data/raw/emails.csv'\n",
    "\n",
    "try:\n",
    "    email_data = pd.read_csv(file_path)\n",
    "    # Continue with your data processing...\n",
    "    \n",
    "except FileNotFoundError:\n",
    "    print(f\"Error: File '{file_path}' not found\")\n",
    "    print(\"Please download the Enron email dataset from Kaggle: https://www.kaggle.com/datasets/wcukierski/enron-email-dataset\")\n",
    "    print(f\"After downloading, place 'emails.csv' in the directory: '{os.path.dirname(file_path)}'\")\n",
    "except pd.errors.EmptyDataError:\n",
    "    print(\"Error: The file is empty or corrupt\")\n",
    "except Exception as e:\n",
    "    print(f\"An error occurred while reading the file: {e}\")\n",
    "\n",
    "# Get the first 5000 records\n",
    "part_records = email_data.head(5000)\n",
    "part_records.iloc[1]  \n"
   ]
  },
  {
   "cell_type": "markdown",
   "id": "e6b3a685",
   "metadata": {},
   "source": [
    "# see structure [link](http://www.enron-mail.com/email/allen-p/)"
   ]
  },
  {
   "cell_type": "code",
   "execution_count": 2,
   "id": "081da975",
   "metadata": {},
   "outputs": [
    {
     "name": "stdout",
     "output_type": "stream",
     "text": [
      "allen-p/sent/99.\n",
      "Message-ID: <27210125.1075855681929.JavaMail.evans@thyme>\n",
      "Date: Fri, 8 Sep 2000 05:29:00 -0700 (PDT)\n",
      "From: phillip.allen@enron.com\n",
      "To: pallen70@hotmail.com\n",
      "Subject: Westgate Proforma-Phillip Allen.xls\n",
      "Mime-Version: 1.0\n",
      "Content-Type: text/plain; charset=us-ascii\n",
      "Content-Transfer-Encoding: 7bit\n",
      "X-From: Phillip K Allen\n",
      "X-To: pallen70@hotmail.com\n",
      "X-cc: \n",
      "X-bcc: \n",
      "X-Folder: \\Phillip_Allen_Dec2000\\Notes Folders\\Sent\n",
      "X-Origin: Allen-P\n",
      "X-FileName: pallen.nsf\n",
      "\n",
      "---------------------- Forwarded by Phillip K Allen/HOU/ECT on 09/08/2000 \n",
      "12:28 PM ---------------------------\n",
      "\n",
      "\n",
      "\"George Richards\" <cbpres@austin.rr.com> on 09/08/2000 05:21:49 AM\n",
      "Please respond to <cbpres@austin.rr.com>\n",
      "To: \"Phillip Allen\" <pallen@enron.com>\n",
      "cc: \"Larry Lewter\" <retwell@mail.sanmarcos.net> \n",
      "Subject: Westgate Proforma-Phillip Allen.xls\n",
      "\n",
      "\n",
      "Enclosed is the preliminary proforma for the Westgate property is Austin\n",
      "that we told you about.  As you can tell from the proforma this project\n",
      "should produce a truly exceptional return of over 40% per year over 3 years.\n",
      "This is especially attractive when the project is in a market as strong as\n",
      "Austin and we are introducing new product that in a very low price range for\n",
      "this market.  This is the best project in terms of risk and reward that we\n",
      "have uncovered to date in the Austin market.\n",
      "The project does have approved zoning and will only require a site plan.  As\n",
      "it is in the \"Smart Growth Corridor\" area designated by the City of Austin\n",
      "for preferred development, this will be fast tracked and should be complete\n",
      "in less than 6 months.  Additionally, many of the current and more severe\n",
      "water treatment ordinances have been waived.  I have estimated the lot\n",
      "improvement costs based on a 28 lot development we investigated in North\n",
      "Austin, which included a detention/retention and filtration pond and street\n",
      "widening.  Even though this property is not likely to require street\n",
      "widening and will have less of a detention/retention and filtration pond\n",
      "requirement, I used this data to be cautious.\n",
      " The Lone Star gas line easement in the lower portion of the property is not\n",
      "expected to impact sales significantly.  Other projects have been quite\n",
      "successful with identical relationships to this pipeline, such as the\n",
      "adjoining single family residential and a project at St. Edwards University.\n",
      "As with most infill projects, the quality of the surrounding neighborhoods\n",
      "is uneven.  We have included a fence around the entire property, but may\n",
      "only put it on Westgate and Cameron Loop.  Gated communities are far\n",
      "preferred so this is a good idea for both screening and current buyer\n",
      "preferences.\n",
      "The seller accepted our offer Thursday evening with a price of $680,000 and\n",
      "an extended escrow.  This will enable us to probably obtain an approved site\n",
      "plan before closing on the contract, which will mean that we can close into\n",
      "an A&D Loan rather than into a land loan and then an improvement loan.\n",
      "This analysis shows your investment at $700,000 for a 50% interest in the\n",
      "profits of the project.  As we discussed in San Marcos, we can also discuss\n",
      "having you invest only in the lots, sell the lots to the construction entity\n",
      "with your profit in the lot.  I believe this would facilitate the use of a\n",
      "1031 Exchange of the proceeds from this deal into another project that is a\n",
      "rental deal or at least into the land for a rental project that would then\n",
      "be the equity for that project.  You would need to discuss this with an\n",
      "exchange expert first.  Larry Lewter knows an expert in the field in San\n",
      "Antonio if you do not know anyone.\n",
      "I will send you a package on the property that was prepared by the broker,\n",
      "by Airborne Express today for Saturday delivery.\n",
      "Once you have read the package and reviewed this proforma, we would want to\n",
      "schedule a tour of the site and the area.  Please get back to me as soon as\n",
      "your schedule permits regarding the site visit and feel free to call at any\n",
      "time.  You can reach me over the weekend and in the evening at either\n",
      "512-338-1119 or 512-338-1110.  My cell phone is 512-748-7495 and the fax is\n",
      "512-338-1103.   I look forward to hearing from you and to working with you\n",
      "on this project that is sure to be a major winner.\n",
      "I regret that it took so long to get back to you, but we had some unusual\n",
      "events these past few weeks.  A small freakish wind storm with severe 60+mpg\n",
      "downdrafts hit the South part of Austin where we are building 10 town homes.\n",
      "One of these units had just had the roof decked with the siding scheduled to\n",
      "start the next day.  The severe downdraft hitting the decked roof was enough\n",
      "to knock it down.  The City shut down the project for a week and it took\n",
      "another week to get every thing back on tract.  Then last week I had to take\n",
      "my wife  to emergency.  She has a bulge in the material between the vertebra\n",
      "in her spine and it causes her extreme pain and has kept her bedridden this\n",
      "past week..  There is nothing like having your wife incapacitated to realize\n",
      "the enormous number of things she does everyday.   Fortunately, it looks as\n",
      "if she will be ok in the long run.\n",
      "George W. Richards\n",
      "Creekside Builders, LLC\n",
      "\n",
      "\n",
      " - Westgate Proforma-Phillip Allen.xls\n",
      "\n"
     ]
    }
   ],
   "source": [
    "# file / message \n",
    "print(email_data.loc[3025, 'file']) \n",
    "print(email_data.loc[3025, 'message']) "
   ]
  },
  {
   "cell_type": "markdown",
   "id": "39d1e69f",
   "metadata": {},
   "source": [
    " # lets get every email send From: phillip.allen@enron.com use part_records"
   ]
  },
  {
   "cell_type": "code",
   "execution_count": 8,
   "id": "58791744",
   "metadata": {},
   "outputs": [
    {
     "data": {
      "text/html": [
       "<div>\n",
       "<style scoped>\n",
       "    .dataframe tbody tr th:only-of-type {\n",
       "        vertical-align: middle;\n",
       "    }\n",
       "\n",
       "    .dataframe tbody tr th {\n",
       "        vertical-align: top;\n",
       "    }\n",
       "\n",
       "    .dataframe thead th {\n",
       "        text-align: right;\n",
       "    }\n",
       "</style>\n",
       "<table border=\"1\" class=\"dataframe\">\n",
       "  <thead>\n",
       "    <tr style=\"text-align: right;\">\n",
       "      <th></th>\n",
       "      <th>file</th>\n",
       "      <th>message</th>\n",
       "    </tr>\n",
       "  </thead>\n",
       "  <tbody>\n",
       "    <tr>\n",
       "      <th>0</th>\n",
       "      <td>allen-p/_sent_mail/1.</td>\n",
       "      <td>Message-ID: &lt;18782981.1075855378110.JavaMail.e...</td>\n",
       "    </tr>\n",
       "    <tr>\n",
       "      <th>1</th>\n",
       "      <td>allen-p/_sent_mail/10.</td>\n",
       "      <td>Message-ID: &lt;15464986.1075855378456.JavaMail.e...</td>\n",
       "    </tr>\n",
       "    <tr>\n",
       "      <th>2</th>\n",
       "      <td>allen-p/_sent_mail/100.</td>\n",
       "      <td>Message-ID: &lt;24216240.1075855687451.JavaMail.e...</td>\n",
       "    </tr>\n",
       "    <tr>\n",
       "      <th>3</th>\n",
       "      <td>allen-p/_sent_mail/1000.</td>\n",
       "      <td>Message-ID: &lt;13505866.1075863688222.JavaMail.e...</td>\n",
       "    </tr>\n",
       "    <tr>\n",
       "      <th>4</th>\n",
       "      <td>allen-p/_sent_mail/1001.</td>\n",
       "      <td>Message-ID: &lt;30922949.1075863688243.JavaMail.e...</td>\n",
       "    </tr>\n",
       "    <tr>\n",
       "      <th>...</th>\n",
       "      <td>...</td>\n",
       "      <td>...</td>\n",
       "    </tr>\n",
       "    <tr>\n",
       "      <th>3962</th>\n",
       "      <td>arnold-j/all_documents/149.</td>\n",
       "      <td>Message-ID: &lt;20807917.1075857570536.JavaMail.e...</td>\n",
       "    </tr>\n",
       "    <tr>\n",
       "      <th>4023</th>\n",
       "      <td>arnold-j/all_documents/203.</td>\n",
       "      <td>Message-ID: &lt;6837511.1075857571754.JavaMail.ev...</td>\n",
       "    </tr>\n",
       "    <tr>\n",
       "      <th>4288</th>\n",
       "      <td>arnold-j/all_documents/442.</td>\n",
       "      <td>Message-ID: &lt;10476134.1075857577015.JavaMail.e...</td>\n",
       "    </tr>\n",
       "    <tr>\n",
       "      <th>4555</th>\n",
       "      <td>arnold-j/all_documents/685.</td>\n",
       "      <td>Message-ID: &lt;20061364.1075857605486.JavaMail.e...</td>\n",
       "    </tr>\n",
       "    <tr>\n",
       "      <th>4772</th>\n",
       "      <td>arnold-j/all_documents/884.</td>\n",
       "      <td>Message-ID: &lt;6768513.1075857610749.JavaMail.ev...</td>\n",
       "    </tr>\n",
       "  </tbody>\n",
       "</table>\n",
       "<p>2178 rows × 2 columns</p>\n",
       "</div>"
      ],
      "text/plain": [
       "                             file  \\\n",
       "0           allen-p/_sent_mail/1.   \n",
       "1          allen-p/_sent_mail/10.   \n",
       "2         allen-p/_sent_mail/100.   \n",
       "3        allen-p/_sent_mail/1000.   \n",
       "4        allen-p/_sent_mail/1001.   \n",
       "...                           ...   \n",
       "3962  arnold-j/all_documents/149.   \n",
       "4023  arnold-j/all_documents/203.   \n",
       "4288  arnold-j/all_documents/442.   \n",
       "4555  arnold-j/all_documents/685.   \n",
       "4772  arnold-j/all_documents/884.   \n",
       "\n",
       "                                                message  \n",
       "0     Message-ID: <18782981.1075855378110.JavaMail.e...  \n",
       "1     Message-ID: <15464986.1075855378456.JavaMail.e...  \n",
       "2     Message-ID: <24216240.1075855687451.JavaMail.e...  \n",
       "3     Message-ID: <13505866.1075863688222.JavaMail.e...  \n",
       "4     Message-ID: <30922949.1075863688243.JavaMail.e...  \n",
       "...                                                 ...  \n",
       "3962  Message-ID: <20807917.1075857570536.JavaMail.e...  \n",
       "4023  Message-ID: <6837511.1075857571754.JavaMail.ev...  \n",
       "4288  Message-ID: <10476134.1075857577015.JavaMail.e...  \n",
       "4555  Message-ID: <20061364.1075857605486.JavaMail.e...  \n",
       "4772  Message-ID: <6768513.1075857610749.JavaMail.ev...  \n",
       "\n",
       "[2178 rows x 2 columns]"
      ]
     },
     "execution_count": 8,
     "metadata": {},
     "output_type": "execute_result"
    }
   ],
   "source": [
    "# Filter emails sent from phillip.allen@enron.com\n",
    "phillip_allen_send_emails = part_records[part_records['message'].str.contains('phillip.allen@enron.com', na=False)]\n",
    "# phillip_allen_emails = part_records[part_records['file'].str.contains('allen-p/_sent_mail/', na=False)]\n",
    "\n",
    "# Display the filtered emails\n",
    "phillip_allen_send_emails"
   ]
  },
  {
   "cell_type": "markdown",
   "id": "3e10ff5d",
   "metadata": {},
   "source": [
    "# train with small dataset"
   ]
  },
  {
   "cell_type": "code",
   "execution_count": null,
   "id": "e5bd7b72",
   "metadata": {},
   "outputs": [],
   "source": [
    "# format\n",
    "# file,message\n",
    "# allen-p/_sent_mail/1.,\"Message-ID: <18782981.1075855378110.JavaMail.evans@thyme>\n",
    "# Date: Mon, 14 May 2001 16:39:00 -0700 (PDT)\n",
    "# From: phillip.allen@enron.com\n",
    "# To: tim.belden@enron.com\n",
    "# Subject: \n",
    "# Mime-Version: 1.0\n",
    "# Content-Type: text/plain; charset=us-ascii\n",
    "# Content-Transfer-Encoding: 7bit\n",
    "# X-From: Phillip K Allen\n",
    "# X-To: Tim Belden <Tim Belden/Enron@EnronXGate>\n",
    "# X-cc: \n",
    "# X-bcc: \n",
    "# X-Folder: \\Phillip_Allen_Jan2002_1\\Allen, Phillip K.\\'Sent Mail\n",
    "# X-Origin: Allen-P\n",
    "# X-FileName: pallen (Non-Privileged).pst\n",
    "\n",
    "# Here is our forecast\n",
    "\n",
    "#  \"\n",
    "# allen-p/_sent_mail/10.,\"Message-ID: <15464986.1075855378456.JavaMail.evans@thyme>\n",
    "# Date: Fri, 4 May 2001 13:51:00 -0700 (PDT)\n",
    "# From: phillip.allen@enron.com\n",
    "# To: john.lavorato@enron.com\n",
    "# Subject: Re:\n",
    "# Mime-Version: 1.0\n",
    "# Content-Type: text/plain; charset=us-ascii\n",
    "# Content-Transfer-Encoding: 7bit\n",
    "# X-From: Phillip K Allen\n",
    "# X-To: John J Lavorato <John J Lavorato/ENRON@enronXgate@ENRON>\n",
    "# X-cc: \n",
    "# X-bcc: \n",
    "# X-Folder: \\Phillip_Allen_Jan2002_1\\Allen, Phillip K.\\'Sent Mail\n",
    "# X-Origin: Allen-P\n",
    "# X-FileName: pallen (Non-Privileged).pst\n",
    "\n",
    "# Traveling to have a business meeting takes the fun out of the trip.  Especially if you have to prepare a presentation.  I would suggest holding the business plan meetings here then take a trip without any formal business meetings.  I would even try and get some honest opinions on whether a trip is even desired or necessary.\n",
    "\n",
    "# As far as the business meetings, I think it would be more productive to try and stimulate discussions across the different groups about what is working and what is not.  Too often the presenter speaks and the others are quiet just waiting for their turn.   The meetings might be better if held in a round table discussion format.  \n",
    "\n",
    "# My suggestion for where to go is Austin.  Play golf and rent a ski boat and jet ski's.  Flying somewhere takes too much time.\n",
    "# \""
   ]
  },
  {
   "cell_type": "code",
   "execution_count": 11,
   "id": "0c85c2ec",
   "metadata": {},
   "outputs": [],
   "source": [
    "import pandas as pd\n",
    "import re\n",
    "\n",
    "def format_email(email: pd.DataFrame) -> pd.DataFrame:\n",
    "    formated_email = email.copy()\n",
    "\n",
    "    formated_email['subject'] = formated_email['message'].str.extract(r'Subject: (.*)')\n",
    "    formated_email['body'] = formated_email['message'].str.extract(r'(?:\\r?\\n){2,}(.*)', flags=re.DOTALL).iloc[:, 0].str.strip()\n",
    "\n",
    "    from_email = formated_email['message'].str.extract(r'From: (.*)').iloc[:, 0].fillna('')\n",
    "    to_email = formated_email['message'].str.extract(r'To: (.*)').iloc[:, 0].fillna('')\n",
    "    date = formated_email['message'].str.extract(r'Date: (.*)').iloc[:, 0].fillna('')\n",
    "\n",
    "    # 拼接额外信息到正文中\n",
    "    formated_email['body'] = formated_email['body'].fillna('') + \\\n",
    "        '\\n\\nFrom: ' + from_email + \\\n",
    "        '\\nTo: ' + to_email + \\\n",
    "        '\\nDate: ' + date\n",
    "\n",
    "    return formated_email[['subject', 'body']]\n",
    "\n"
   ]
  },
  {
   "cell_type": "code",
   "execution_count": 12,
   "id": "9deff575",
   "metadata": {},
   "outputs": [],
   "source": [
    "phillip_allen_emails = format_email(phillip_allen_send_emails)"
   ]
  },
  {
   "cell_type": "code",
   "execution_count": 13,
   "id": "d9674416",
   "metadata": {},
   "outputs": [
    {
     "data": {
      "text/plain": [
       "'Here is our forecast\\n\\nFrom: phillip.allen@enron.com\\nTo: tim.belden@enron.com\\nDate: Mon, 14 May 2001 16:39:00 -0700 (PDT)'"
      ]
     },
     "execution_count": 13,
     "metadata": {},
     "output_type": "execute_result"
    }
   ],
   "source": [
    "phillip_allen_all_emails= format_email(part_records[part_records['file'].str.contains('allen-p', na=False)])\n",
    "phillip_allen_emails['body'].iloc[0]"
   ]
  },
  {
   "cell_type": "code",
   "execution_count": 6,
   "id": "0707753a",
   "metadata": {},
   "outputs": [],
   "source": [
    "phillip_allen_emails = phillip_allen_emails[[ 'subject', 'body']]\n",
    "\n",
    "phillip_allen_emails[:500].to_csv('../data/train_dataset/phillip_allen_emails.csv', index=False)\n",
    "# Save the filtered emails to a new CSV file"
   ]
  },
  {
   "cell_type": "markdown",
   "id": "2aa28d44",
   "metadata": {},
   "source": [
    "get a full conversation with somebody， user is phillip.allen@enron.com ，other is pallen70@hotmail.com ， asc  maybe useful to know more about project topic between"
   ]
  },
  {
   "cell_type": "code",
   "execution_count": 16,
   "id": "efe4f6ed",
   "metadata": {},
   "outputs": [],
   "source": [
    "\n",
    "def extract_email_info(format_email: pd.DataFrame, who) -> pd.DataFrame:\n",
    "    # find body include who\n",
    "    email = format_email[format_email['body'].str.contains(who, na=False)]\n",
    "    return email"
   ]
  },
  {
   "cell_type": "code",
   "execution_count": 17,
   "id": "6fa89bac",
   "metadata": {},
   "outputs": [],
   "source": [
    "\n",
    "\n",
    "phillip_allen_all_emails[:500].to_csv('../data/train_dataset/phillip_allen_all_emails.csv', index=False)\n",
    "\n",
    "# stagecoachmama@hotmail.com\n",
    "stagecoachmama_emails = extract_email_info(phillip_allen_all_emails, 'stagecoachmama@hotmail.com')\n",
    "stagecoachmama_emails.to_csv('../data/train_dataset/stagecoachmama_emails.csv', index=False)"
   ]
  }
 ],
 "metadata": {
  "kernelspec": {
   "display_name": "az_ai",
   "language": "python",
   "name": "python3"
  },
  "language_info": {
   "codemirror_mode": {
    "name": "ipython",
    "version": 3
   },
   "file_extension": ".py",
   "mimetype": "text/x-python",
   "name": "python",
   "nbconvert_exporter": "python",
   "pygments_lexer": "ipython3",
   "version": "3.13.2"
  }
 },
 "nbformat": 4,
 "nbformat_minor": 5
}
